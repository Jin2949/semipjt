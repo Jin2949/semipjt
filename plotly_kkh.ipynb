{
 "cells": [
  {
   "cell_type": "code",
   "execution_count": 3,
   "id": "dac350b4-842c-468f-a9d7-9ad8d38529b5",
   "metadata": {
    "tags": []
   },
   "outputs": [],
   "source": [
    "import numpy as np\n",
    "import pandas as pd\n",
    "import matplotlib.pyplot as plt\n",
    "import seaborn as sns\n",
    "\n",
    "import re\n",
    "import pprint\n",
    "\n",
    "import folium\n",
    "from folium.plugins import MarkerCluster\n",
    "import googlemaps\n",
    "import geopandas as gpd\n",
    "\n",
    "import chart_studio\n",
    "import plotly.express as px\n",
    "chart_studio.tools.set_credentials_file(username='error-_-', api_key='TuIkGS2vNWmn3D5mwRmX')\n",
    "import plotly.io as pio\n",
    "import chart_studio.plotly as py\n",
    "import plotly.graph_objects as go\n",
    "\n",
    "import requests\n",
    "import json\n",
    "import time\n",
    "\n",
    "import warnings\n",
    "warnings.filterwarnings(action='ignore')"
   ]
  },
  {
   "cell_type": "code",
   "execution_count": 4,
   "id": "a592bb0e-f9a5-4dea-885f-1a6e6b8fad8d",
   "metadata": {
    "tags": []
   },
   "outputs": [],
   "source": [
    "중구3월 = pd.read_csv('./datasets/버스중구3월.csv')\n",
    "중구3월주중 = 중구3월[중구3월['wd']==0]\n",
    "중구3월주말 = 중구3월[중구3월['wd']==1]\n",
    "중구3월주중시간별평균 = 중구3월주중.groupby('hh')['g_cnt'].mean()\n",
    "중구3월주말시간별평균 = 중구3월주말.groupby('hh')['g_cnt'].mean()"
   ]
  },
  {
   "cell_type": "code",
   "execution_count": 41,
   "id": "b4dd4287-1798-4578-8298-6e1d4c9160c5",
   "metadata": {
    "tags": []
   },
   "outputs": [
    {
     "data": {
      "text/html": [
       "\n",
       "        <iframe\n",
       "            width=\"100%\"\n",
       "            height=\"525px\"\n",
       "            src=\"https://plotly.com/~error-_-/9.embed\"\n",
       "            frameborder=\"0\"\n",
       "            allowfullscreen\n",
       "            \n",
       "        ></iframe>\n",
       "        "
      ],
      "text/plain": [
       "<IPython.lib.display.IFrame at 0x2c4e8369910>"
      ]
     },
     "execution_count": 41,
     "metadata": {},
     "output_type": "execute_result"
    }
   ],
   "source": [
    "fig = go.Figure()\n",
    "\n",
    "fig.add_trace(go.Bar(\n",
    "    x=중구3월주중시간별평균.index,\n",
    "    y=중구3월주중시간별평균.values\n",
    "))\n",
    "\n",
    "fig.update_yaxes(automargin=True)\n",
    "\n",
    "py.iplot(fig, filename='중구3월주중시간별평균')"
   ]
  },
  {
   "cell_type": "markdown",
   "id": "5b8dba61-63f1-4731-871a-6e3fde02c0a1",
   "metadata": {},
   "source": [
    "# 중구3월주중시간별평균\n",
    "\n",
    "```\n",
    "<iframe width=\"900\" height=\"800\" frameborder=\"0\" scrolling=\"no\" src=\"//plotly.com/~error-_-/9.embed\"></iframe>\n",
    "```\n",
    "```\n",
    "<div>\n",
    "    <a href=\"https://plotly.com/~error-_-/9/?share_key=iF8OhF4nyxUwXyzOmVMkEu\" target=\"_blank\" title=\"중구3월주중시간별평균\" style=\"display: block; text-align: center;\"><img src=\"https://plotly.com/~error-_-/9.png?share_key=iF8OhF4nyxUwXyzOmVMkEu\" alt=\"중구3월주중시간별평균\" style=\"max-width: 100%;width: 600px;\"  width=\"600\" onerror=\"this.onerror=null;this.src='https://plotly.com/404.png';\" /></a>\n",
    "    <script data-plotly=\"error-_-:9\" sharekey-plotly=\"iF8OhF4nyxUwXyzOmVMkEu\" src=\"https://plotly.com/embed.js\" async></script>\n",
    "</div>\n",
    "```"
   ]
  },
  {
   "cell_type": "code",
   "execution_count": 1,
   "id": "66283a9b-b081-445b-9acf-9a3d3a96c9d2",
   "metadata": {},
   "outputs": [
    {
     "ename": "NameError",
     "evalue": "name 'go' is not defined",
     "output_type": "error",
     "traceback": [
      "\u001b[1;31m---------------------------------------------------------------------------\u001b[0m",
      "\u001b[1;31mNameError\u001b[0m                                 Traceback (most recent call last)",
      "Cell \u001b[1;32mIn[1], line 1\u001b[0m\n\u001b[1;32m----> 1\u001b[0m fig \u001b[38;5;241m=\u001b[39m \u001b[43mgo\u001b[49m\u001b[38;5;241m.\u001b[39mFigure()\n\u001b[0;32m      3\u001b[0m fig\u001b[38;5;241m.\u001b[39madd_trace(go\u001b[38;5;241m.\u001b[39mBar(\n\u001b[0;32m      4\u001b[0m     x\u001b[38;5;241m=\u001b[39m중구3월주말시간별평균\u001b[38;5;241m.\u001b[39mindex,\n\u001b[0;32m      5\u001b[0m     y\u001b[38;5;241m=\u001b[39m중구3월주말시간별평균\u001b[38;5;241m.\u001b[39mvalues\n\u001b[0;32m      6\u001b[0m ))\n\u001b[0;32m      8\u001b[0m fig\u001b[38;5;241m.\u001b[39mupdate_yaxes(automargin\u001b[38;5;241m=\u001b[39m\u001b[38;5;28;01mTrue\u001b[39;00m)\n",
      "\u001b[1;31mNameError\u001b[0m: name 'go' is not defined"
     ]
    }
   ],
   "source": [
    "fig = go.Figure()\n",
    "\n",
    "fig.add_trace(go.Bar(\n",
    "    x=중구3월주말시간별평균.index,\n",
    "    y=중구3월주말시간별평균.values\n",
    "))\n",
    "\n",
    "fig.update_yaxes(automargin=True)\n",
    "\n",
    "py.iplot(fig, filename='중구3월주말시간별평균')"
   ]
  },
  {
   "cell_type": "markdown",
   "id": "8397aced-8583-4a5d-b8b9-7d757e0a1bb2",
   "metadata": {},
   "source": [
    "# 중구3월주말시간별평균\n",
    "\n",
    "```\n",
    "<iframe width=\"900\" height=\"800\" frameborder=\"0\" scrolling=\"no\" src=\"//plotly.com/~error-_-/11.embed\"></iframe>\n",
    "```\n",
    "```\n",
    "<div>\n",
    "    <a href=\"https://plotly.com/~error-_-/11/?share_key=7aH0Sd6BJyiVDnCbNaCSVv\" target=\"_blank\" title=\"중구3월주말시간별평균\" style=\"display: block; text-align: center;\"><img src=\"https://plotly.com/~error-_-/11.png?share_key=7aH0Sd6BJyiVDnCbNaCSVv\" alt=\"중구3월주말시간별평균\" style=\"max-width: 100%;width: 600px;\"  width=\"600\" onerror=\"this.onerror=null;this.src='https://plotly.com/404.png';\" /></a>\n",
    "    <script data-plotly=\"error-_-:11\" sharekey-plotly=\"7aH0Sd6BJyiVDnCbNaCSVv\" src=\"https://plotly.com/embed.js\" async></script>\n",
    "</div>\n",
    "```"
   ]
  }
 ],
 "metadata": {
  "kernelspec": {
   "display_name": "Python 3 (ipykernel)",
   "language": "python",
   "name": "python3"
  },
  "language_info": {
   "codemirror_mode": {
    "name": "ipython",
    "version": 3
   },
   "file_extension": ".py",
   "mimetype": "text/x-python",
   "name": "python",
   "nbconvert_exporter": "python",
   "pygments_lexer": "ipython3",
   "version": "3.8.8"
  }
 },
 "nbformat": 4,
 "nbformat_minor": 5
}
