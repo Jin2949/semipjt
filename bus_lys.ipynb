{
 "cells": [
  {
   "cell_type": "code",
   "execution_count": 1,
   "id": "0e10447b-4fc5-4418-b66e-7b692b3bd442",
   "metadata": {},
   "outputs": [],
   "source": [
    "import numpy as np\n",
    "import pandas as pd\n",
    "import matplotlib.pyplot as plt\n",
    "import seaborn as sns\n",
    "\n",
    "import re\n",
    "import pprint\n",
    "\n",
    "import folium\n",
    "from folium.plugins import MarkerCluster\n",
    "import googlemaps\n",
    "import geopandas as gpd\n",
    "\n",
    "import requests\n",
    "import json\n",
    "import time\n",
    "\n",
    "import warnings\n",
    "warnings.filterwarnings(action='ignore')"
   ]
  },
  {
   "cell_type": "code",
   "execution_count": 2,
   "id": "e6a31c30-08a8-4873-a04e-5b2f196813c0",
   "metadata": {
    "tags": []
   },
   "outputs": [
    {
     "data": {
      "text/plain": [
       "기준_날짜            0\n",
       "행정동_ID           0\n",
       "버스_승객_수        424\n",
       "버스_승객_수_00시    424\n",
       "버스_승객_수_01시    424\n",
       "버스_승객_수_02시    424\n",
       "버스_승객_수_03시    424\n",
       "버스_승객_수_04시    424\n",
       "버스_승객_수_05시    424\n",
       "버스_승객_수_06시    424\n",
       "버스_승객_수_07시    424\n",
       "버스_승객_수_08시    424\n",
       "버스_승객_수_09시    424\n",
       "버스_승객_수_10시    424\n",
       "버스_승객_수_11시    424\n",
       "버스_승객_수_12시    424\n",
       "버스_승객_수_13시    424\n",
       "버스_승객_수_14시    424\n",
       "버스_승객_수_15시    424\n",
       "버스_승객_수_16시    424\n",
       "버스_승객_수_17시    424\n",
       "버스_승객_수_18시    424\n",
       "버스_승객_수_19시    424\n",
       "버스_승객_수_20시    424\n",
       "버스_승객_수_21시    424\n",
       "버스_승객_수_22시    424\n",
       "버스_승객_수_23시    424\n",
       "dtype: int64"
      ]
     },
     "execution_count": 2,
     "metadata": {},
     "output_type": "execute_result"
    }
   ],
   "source": [
    "bus_time_table = pd.read_csv('./datasets/bus_time_table.csv', encoding='cp949', sep=',', parse_dates=['기준_날짜'])\n",
    "bus_time_table.isna().sum()"
   ]
  },
  {
   "cell_type": "markdown",
   "id": "38afac17-450c-4a07-a391-c561d009da19",
   "metadata": {},
   "source": [
    "* 결측치"
   ]
  },
  {
   "cell_type": "code",
   "execution_count": 3,
   "id": "6bb8b024-559c-4b36-80bb-1c047aedc534",
   "metadata": {
    "tags": []
   },
   "outputs": [
    {
     "data": {
      "text/plain": [
       "기준_날짜          0\n",
       "행정동_ID         0\n",
       "버스_승객_수        0\n",
       "버스_승객_수_00시    0\n",
       "버스_승객_수_01시    0\n",
       "버스_승객_수_02시    0\n",
       "버스_승객_수_03시    0\n",
       "버스_승객_수_04시    0\n",
       "버스_승객_수_05시    0\n",
       "버스_승객_수_06시    0\n",
       "버스_승객_수_07시    0\n",
       "버스_승객_수_08시    0\n",
       "버스_승객_수_09시    0\n",
       "버스_승객_수_10시    0\n",
       "버스_승객_수_11시    0\n",
       "버스_승객_수_12시    0\n",
       "버스_승객_수_13시    0\n",
       "버스_승객_수_14시    0\n",
       "버스_승객_수_15시    0\n",
       "버스_승객_수_16시    0\n",
       "버스_승객_수_17시    0\n",
       "버스_승객_수_18시    0\n",
       "버스_승객_수_19시    0\n",
       "버스_승객_수_20시    0\n",
       "버스_승객_수_21시    0\n",
       "버스_승객_수_22시    0\n",
       "버스_승객_수_23시    0\n",
       "dtype: int64"
      ]
     },
     "execution_count": 3,
     "metadata": {},
     "output_type": "execute_result"
    }
   ],
   "source": [
    "\n",
    "del_idx = bus_time_table[bus_time_table.isna().values == True].index\n",
    "bus_time_table = bus_time_table.drop(del_idx, axis=0)\n",
    "bus_time_table.isna().sum()"
   ]
  },
  {
   "cell_type": "markdown",
   "id": "bd5d2e64-fc15-449b-b1c5-9e03ef609f12",
   "metadata": {},
   "source": [
    "* 컬럼명 다시"
   ]
  },
  {
   "cell_type": "code",
   "execution_count": 4,
   "id": "044b1b2f-612e-43a8-9c4b-3c7d28a74e83",
   "metadata": {
    "tags": []
   },
   "outputs": [
    {
     "data": {
      "text/html": [
       "<div>\n",
       "<style scoped>\n",
       "    .dataframe tbody tr th:only-of-type {\n",
       "        vertical-align: middle;\n",
       "    }\n",
       "\n",
       "    .dataframe tbody tr th {\n",
       "        vertical-align: top;\n",
       "    }\n",
       "\n",
       "    .dataframe thead th {\n",
       "        text-align: right;\n",
       "    }\n",
       "</style>\n",
       "<table border=\"1\" class=\"dataframe\">\n",
       "  <thead>\n",
       "    <tr style=\"text-align: right;\">\n",
       "      <th></th>\n",
       "      <th>기준_날짜</th>\n",
       "      <th>행정동_ID</th>\n",
       "      <th>버스_승객_수</th>\n",
       "      <th>버스_승객_수_00시</th>\n",
       "      <th>버스_승객_수_01시</th>\n",
       "      <th>버스_승객_수_02시</th>\n",
       "      <th>버스_승객_수_03시</th>\n",
       "      <th>버스_승객_수_04시</th>\n",
       "      <th>버스_승객_수_05시</th>\n",
       "      <th>버스_승객_수_06시</th>\n",
       "      <th>...</th>\n",
       "      <th>버스_승객_수_14시</th>\n",
       "      <th>버스_승객_수_15시</th>\n",
       "      <th>버스_승객_수_16시</th>\n",
       "      <th>버스_승객_수_17시</th>\n",
       "      <th>버스_승객_수_18시</th>\n",
       "      <th>버스_승객_수_19시</th>\n",
       "      <th>버스_승객_수_20시</th>\n",
       "      <th>버스_승객_수_21시</th>\n",
       "      <th>버스_승객_수_22시</th>\n",
       "      <th>버스_승객_수_23시</th>\n",
       "    </tr>\n",
       "  </thead>\n",
       "  <tbody>\n",
       "  </tbody>\n",
       "</table>\n",
       "<p>0 rows × 27 columns</p>\n",
       "</div>"
      ],
      "text/plain": [
       "Empty DataFrame\n",
       "Columns: [기준_날짜, 행정동_ID, 버스_승객_수, 버스_승객_수_00시, 버스_승객_수_01시, 버스_승객_수_02시, 버스_승객_수_03시, 버스_승객_수_04시, 버스_승객_수_05시, 버스_승객_수_06시, 버스_승객_수_07시, 버스_승객_수_08시, 버스_승객_수_09시, 버스_승객_수_10시, 버스_승객_수_11시, 버스_승객_수_12시, 버스_승객_수_13시, 버스_승객_수_14시, 버스_승객_수_15시, 버스_승객_수_16시, 버스_승객_수_17시, 버스_승객_수_18시, 버스_승객_수_19시, 버스_승객_수_20시, 버스_승객_수_21시, 버스_승객_수_22시, 버스_승객_수_23시]\n",
       "Index: []\n",
       "\n",
       "[0 rows x 27 columns]"
      ]
     },
     "execution_count": 4,
     "metadata": {},
     "output_type": "execute_result"
    }
   ],
   "source": [
    "\n",
    "bus_time_table[bus_time_table[['버스_승객_수_00시', '버스_승객_수_01시',\n",
    "       '버스_승객_수_02시', '버스_승객_수_03시', '버스_승객_수_04시', '버스_승객_수_05시',\n",
    "       '버스_승객_수_06시', '버스_승객_수_07시', '버스_승객_수_08시', '버스_승객_수_09시',\n",
    "       '버스_승객_수_10시', '버스_승객_수_11시', '버스_승객_수_12시', '버스_승객_수_13시',\n",
    "       '버스_승객_수_14시', '버스_승객_수_15시', '버스_승객_수_16시', '버스_승객_수_17시',\n",
    "       '버스_승객_수_18시', '버스_승객_수_19시', '버스_승객_수_20시', '버스_승객_수_21시',\n",
    "       '버스_승객_수_22시', '버스_승객_수_23시']].sum(axis=1) != bus_time_table['버스_승객_수']]"
   ]
  },
  {
   "cell_type": "code",
   "execution_count": 5,
   "id": "99fb6ee7-b847-45fc-924f-d28c4bf95d8d",
   "metadata": {
    "tags": []
   },
   "outputs": [
    {
     "name": "stdout",
     "output_type": "stream",
     "text": [
      "<class 'pandas.core.frame.DataFrame'>\n",
      "Int64Index: 173416 entries, 0 to 173839\n",
      "Data columns (total 30 columns):\n",
      " #   Column     Non-Null Count   Dtype         \n",
      "---  ------     --------------   -----         \n",
      " 0   busdate    173416 non-null  datetime64[ns]\n",
      " 1   yy         173416 non-null  int64         \n",
      " 2   mm         173416 non-null  int64         \n",
      " 3   dd         173416 non-null  int64         \n",
      " 4   dong_id    173416 non-null  int64         \n",
      " 5   guest_cnt  173416 non-null  float64       \n",
      " 6   hh00       173416 non-null  int32         \n",
      " 7   hh01       173416 non-null  int32         \n",
      " 8   hh02       173416 non-null  int32         \n",
      " 9   hh03       173416 non-null  int32         \n",
      " 10  hh04       173416 non-null  int32         \n",
      " 11  hh05       173416 non-null  int32         \n",
      " 12  hh06       173416 non-null  int32         \n",
      " 13  hh07       173416 non-null  int32         \n",
      " 14  hh08       173416 non-null  int32         \n",
      " 15  hh09       173416 non-null  int32         \n",
      " 16  hh10       173416 non-null  int32         \n",
      " 17  hh11       173416 non-null  int32         \n",
      " 18  hh12       173416 non-null  int32         \n",
      " 19  hh13       173416 non-null  int32         \n",
      " 20  hh14       173416 non-null  int32         \n",
      " 21  hh15       173416 non-null  int32         \n",
      " 22  hh16       173416 non-null  int32         \n",
      " 23  hh17       173416 non-null  int32         \n",
      " 24  hh18       173416 non-null  int32         \n",
      " 25  hh19       173416 non-null  int32         \n",
      " 26  hh20       173416 non-null  int32         \n",
      " 27  hh21       173416 non-null  int32         \n",
      " 28  hh22       173416 non-null  int32         \n",
      " 29  hh23       173416 non-null  int32         \n",
      "dtypes: datetime64[ns](1), float64(1), int32(24), int64(4)\n",
      "memory usage: 25.1 MB\n"
     ]
    }
   ],
   "source": [
    "\n",
    "bus = pd.DataFrame()\n",
    "bus['busdate'] = bus_time_table['기준_날짜']\n",
    "bus['yy'] = bus_time_table['기준_날짜'].dt.year\n",
    "bus['mm'] = bus_time_table['기준_날짜'].dt.month\n",
    "bus['dd'] = bus_time_table['기준_날짜'].dt.day\n",
    "bus['dong_id'] = bus_time_table['행정동_ID']\n",
    "bus['guest_cnt'] = bus_time_table['버스_승객_수']\n",
    "bus[['hh00', 'hh01',\n",
    "       'hh02', 'hh03', 'hh04', 'hh05',\n",
    "       'hh06', 'hh07', 'hh08', 'hh09',\n",
    "       'hh10', 'hh11', 'hh12', 'hh13',\n",
    "       'hh14', 'hh15', 'hh16', 'hh17',\n",
    "       'hh18', 'hh19', 'hh20', 'hh21',\n",
    "       'hh22', 'hh23']] = bus_time_table[['버스_승객_수_00시', '버스_승객_수_01시',\n",
    "       '버스_승객_수_02시', '버스_승객_수_03시', '버스_승객_수_04시', '버스_승객_수_05시',\n",
    "       '버스_승객_수_06시', '버스_승객_수_07시', '버스_승객_수_08시', '버스_승객_수_09시',\n",
    "       '버스_승객_수_10시', '버스_승객_수_11시', '버스_승객_수_12시', '버스_승객_수_13시',\n",
    "       '버스_승객_수_14시', '버스_승객_수_15시', '버스_승객_수_16시', '버스_승객_수_17시',\n",
    "       '버스_승객_수_18시', '버스_승객_수_19시', '버스_승객_수_20시', '버스_승객_수_21시',\n",
    "       '버스_승객_수_22시', '버스_승객_수_23시']].astype('int')\n",
    "bus.info()"
   ]
  },
  {
   "cell_type": "markdown",
   "id": "f354d25d-4929-40b2-9a6a-63e38bc5c3b4",
   "metadata": {},
   "source": [
    "* 인구자료"
   ]
  },
  {
   "cell_type": "code",
   "execution_count": null,
   "id": "4e44bda2-9aad-44f6-b1ed-543e43d103c4",
   "metadata": {},
   "outputs": [],
   "source": []
  },
  {
   "cell_type": "code",
   "execution_count": null,
   "id": "49013f57-0c02-4829-a62b-4fa86af9a2b6",
   "metadata": {},
   "outputs": [],
   "source": []
  },
  {
   "cell_type": "code",
   "execution_count": null,
   "id": "c8653cbf-34a7-4e77-be90-ece92ecca8f2",
   "metadata": {},
   "outputs": [],
   "source": []
  },
  {
   "cell_type": "code",
   "execution_count": null,
   "id": "3382acbf-3e04-4f52-be27-838dd647151c",
   "metadata": {},
   "outputs": [],
   "source": []
  },
  {
   "cell_type": "code",
   "execution_count": null,
   "id": "c25cf720-298e-4904-86b4-2eae65c40d7a",
   "metadata": {},
   "outputs": [],
   "source": []
  },
  {
   "cell_type": "code",
   "execution_count": null,
   "id": "2005a51c-1f8e-48c2-8f99-4b11342bb971",
   "metadata": {},
   "outputs": [],
   "source": []
  },
  {
   "cell_type": "code",
   "execution_count": null,
   "id": "b1468319-2f5f-4d3a-b136-73768180b21a",
   "metadata": {},
   "outputs": [],
   "source": []
  },
  {
   "cell_type": "code",
   "execution_count": null,
   "id": "18cd2024-233c-4910-8271-6016f445659f",
   "metadata": {},
   "outputs": [],
   "source": []
  },
  {
   "cell_type": "code",
   "execution_count": null,
   "id": "12023c7b-6334-4dcf-b725-bebe0de1919b",
   "metadata": {},
   "outputs": [],
   "source": []
  },
  {
   "cell_type": "code",
   "execution_count": null,
   "id": "f2f4c5b9-f012-4f17-b216-506aab87fa55",
   "metadata": {},
   "outputs": [],
   "source": []
  },
  {
   "cell_type": "code",
   "execution_count": null,
   "id": "11bd35b3-44a9-4b0b-8968-c598953e9161",
   "metadata": {},
   "outputs": [],
   "source": []
  }
 ],
 "metadata": {
  "kernelspec": {
   "display_name": "Python 3 (ipykernel)",
   "language": "python",
   "name": "python3"
  },
  "language_info": {
   "codemirror_mode": {
    "name": "ipython",
    "version": 3
   },
   "file_extension": ".py",
   "mimetype": "text/x-python",
   "name": "python",
   "nbconvert_exporter": "python",
   "pygments_lexer": "ipython3",
   "version": "3.8.8"
  }
 },
 "nbformat": 4,
 "nbformat_minor": 5
}
